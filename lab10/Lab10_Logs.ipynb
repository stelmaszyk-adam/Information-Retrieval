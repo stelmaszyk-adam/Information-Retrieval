{
 "cells": [
  {
   "cell_type": "code",
   "execution_count": 8,
   "metadata": {},
   "outputs": [],
   "source": [
    "%matplotlib inline\n",
    "import numpy as np\n",
    "import matplotlib.pyplot as plt\n",
    "import datetime\n",
    "import math"
   ]
  },
  {
   "cell_type": "markdown",
   "metadata": {},
   "source": [
    "1) Log file is loaded"
   ]
  },
  {
   "cell_type": "code",
   "execution_count": 9,
   "metadata": {},
   "outputs": [
    {
     "name": "stdout",
     "output_type": "stream",
     "text": [
      "156.15.13.173 [01/Jan/2018:11:13:49 +0100] \"GET AddProduct.html HTTP/1.0\" 200 2356\n",
      "176.247.135.49 [01/Jan/2018:11:18:07 +0100] \"GET Shop.html HTTP/1.0\" 200 7466\n",
      "176.247.135.49 [01/Jan/2018:11:19:05 +0100] \"GET AddProduct.html HTTP/1.0\" 200 2356\n"
     ]
    }
   ],
   "source": [
    "file = open(\"log.txt\", \"r\") \n",
    "lines = file.readlines()\n",
    "for l in range(3): print(lines[l][:-1])"
   ]
  },
  {
   "cell_type": "markdown",
   "metadata": {},
   "source": [
    "2) Cass \"Request\" parses and keeps data of a single requests. Complete the TODO, where a given \"line\" (string) should be parsed in order to dervie the ip of the host making the request, time of the request (in seconds), and target page (name)."
   ]
  },
  {
   "cell_type": "code",
   "execution_count": 10,
   "metadata": {},
   "outputs": [
    {
     "data": {
      "text/plain": [
       "156.15.13.173     11:13:49 -> AddProduct.html"
      ]
     },
     "execution_count": 10,
     "metadata": {},
     "output_type": "execute_result"
    }
   ],
   "source": [
    "class Request:\n",
    "    def __init__(self, line):\n",
    "        spaceLine = line.split(' ')\n",
    "        self.ip = spaceLine[0]\n",
    "        timeIndex = spaceLine[1].find(':')\n",
    "        time_string = spaceLine[1][timeIndex + 1:]\n",
    "        workAround = time_string.split(':')\n",
    "        finalTime = int(workAround[0]) * 3600 + int(workAround[1]) * 60 + int(workAround[2])\n",
    "        self.time = finalTime\n",
    "        self.page = spaceLine[4]\n",
    "\n",
    "    def __repr__(self):\n",
    "        return self.ip + \"     \" + str(datetime.timedelta(seconds=self.time)) + \" -> \" + self.page\n",
    "        \n",
    "Request('156.15.13.173 [01/Jan/2018:11:13:49 +0100] \"GET AddProduct.html HTTP/1.0\" 200 2356')"
   ]
  },
  {
   "cell_type": "markdown",
   "metadata": {},
   "source": [
    "3) Each line of log.txt is parsed and the Request objects are added to the list"
   ]
  },
  {
   "cell_type": "code",
   "execution_count": 7,
   "metadata": {
    "scrolled": true
   },
   "outputs": [
    {
     "name": "stdout",
     "output_type": "stream",
     "text": [
      "156.15.13.173     11:13:49 -> AddProduct.html\n",
      "176.247.135.49     11:18:07 -> Shop.html\n",
      "176.247.135.49     11:19:05 -> AddProduct.html\n",
      "176.247.135.49     11:29:05 -> Summary.html\n",
      "69.84.30.199     11:43:59 -> Shop.html\n",
      "69.84.30.199     11:45:16 -> AddProduct.html\n",
      "57.116.45.120     11:46:45 -> AddProduct.html\n",
      "69.84.30.199     11:50:36 -> Summary.html\n",
      "69.84.30.199     11:52:38 -> Payment.html\n",
      "26.19.183.202     11:53:11 -> AddProduct.html\n"
     ]
    }
   ],
   "source": [
    "reqs = [Request(line) for line in lines]\n",
    "for l in range(10): print(reqs[l]) "
   ]
  },
  {
   "cell_type": "markdown",
   "metadata": {},
   "source": [
    "# Exercise"
   ]
  },
  {
   "cell_type": "markdown",
   "metadata": {},
   "source": [
    "Your task is to analyze the log file. You should indentify the users and sessions. Then, compute the following: <br>\n",
    "3.1) the number of sessions (should be 1000 :) ), <br>\n",
    "3.2) the number of users, <br>\n",
    "3.3) the average number of sessions per one user <br>\n",
    "3.4) use the distribution plot to visualize the sessions' lengths (minutes);  <br>\n",
    "3.5) use the distribution plot to visualize the sessions' lengths (the number of requests) <br>\n",
    "3.6) use the distribution plot to visualize sessions' starting times (hours). <br>\n",
    "3.7) which web page is the most common entry point?; for each page plot the number of times it has been an entry page,  <br>\n",
    "3.8) which web page is the most common departure point?; for each page plot the number of times the user stopped a session while being on this page, <br>\n",
    "3.9) for each page plot the average time the user stayed on this page <br>\n",
    "3.10) print the fist 10 sessions (paths). <br>\n",
    "\n",
    "You may find the following classes helpful and data."
   ]
  },
  {
   "cell_type": "code",
   "execution_count": 13,
   "metadata": {},
   "outputs": [],
   "source": [
    "class SolutionMaker:\n",
    "    def __init__(self, compList, sessList):\n",
    "        self.numberOfUsers = len(compList)\n",
    "        self.numberOfSessions = len(sessList)\n",
    "        self.averageNumberOfSessions = self.numberOfSessions / self.numberOfUsers\n",
    "\n",
    "    def visualizeSessionMinutes(self):\n",
    "        fig, axs = plt.subplots(1, 1)\n",
    "        lengths = []\n",
    "        for i in sessList:\n",
    "            lengths.append(round((i.startTime - i.stopTime) / 60))\n",
    "        sortedLengths = [0] * math.ceil((theta / 60))\n",
    "        for i in lengths:\n",
    "            sortedLengths[i] += 1\n",
    "        xax = math.ceil(theta / 60)\n",
    "        z = [0] * xax\n",
    "        axs.bar([i for i in range(0, xax)], sortedLengths)  # , color='lightblue', linewidth=3)\n",
    "        plt.show()\n",
    "\n",
    "        pass\n",
    "\n",
    "    def visualizeSessionRequests(self):\n",
    "        requestPerSess = {}\n",
    "        for i in userList:\n",
    "            for z in i.sessions:\n",
    "                try:\n",
    "                    requestPerSess[len(z.requests)] += 1\n",
    "                except(KeyError):\n",
    "                    requestPerSess[len(z.requests)] = 1\n",
    "\n",
    "        print(requestPerSess)\n",
    "        fig, axs = plt.subplots(1, 1)\n",
    "        axs.bar(requestPerSess.keys(), requestPerSess.values())\n",
    "        plt.show()\n",
    "\n",
    "    def visualizeSessionStartingHours(self):\n",
    "        startHours = {x: 0 for x in range(0, 24)}\n",
    "        for i in userList:\n",
    "            for c in i.sessions:\n",
    "                secondToDate = (datetime.timedelta(seconds=c.startTime))\n",
    "                startHours[secondToDate.seconds // 3600] += 1\n",
    "        fig, axs = plt.subplots(1, 1)\n",
    "        axs.bar(startHours.keys(), startHours.values())\n",
    "        plt.show()\n",
    "\n",
    "    def visualizeEntryPoints(self):\n",
    "        entryPoints = {x: 0 for x in PAGES}\n",
    "        for i in userList:\n",
    "            for c in i.sessions:\n",
    "                entryPoints[c.requests[0]] += 1\n",
    "        print(entryPoints)\n",
    "        fig, axs = plt.subplots(1, 1)\n",
    "        axs.bar(entryPoints.keys(), entryPoints.values())\n",
    "        plt.show()\n",
    "\n",
    "    def visualizeDeparturePoints(self):\n",
    "        departurePoints = {x: 0 for x in PAGES}\n",
    "        for i in userList:\n",
    "            for c in i.sessions:\n",
    "                departurePoints[c.requests[len(c.requests) - 1]] += 1\n",
    "        print(departurePoints)\n",
    "        fig, axs = plt.subplots(1, 1)\n",
    "        axs.bar(departurePoints.keys(), departurePoints.values())\n",
    "        plt.show()\n",
    "\n",
    "    def visualizeAverageTimeOnPage(self):\n",
    "        averagePageTimes = {x: 0 for x in PAGES}\n",
    "        for y in averagePageTimes:\n",
    "            if pageTotalVisits[y] != 0:\n",
    "                averagePageTimes[y] = pageTotalTime[y] / pageTotalVisits[y]\n",
    "\n",
    "        fig, axs = plt.subplots(1, 1)\n",
    "        axs.bar(averagePageTimes.keys(), averagePageTimes.values())\n",
    "        plt.show()\n",
    "        print(averagePageTimes)\n",
    "        pass\n",
    "\n",
    "    def printFirstSessions(self, n):\n",
    "        '''\n",
    "        :param n: The number of sessions to be printed\n",
    "        '''\n",
    "        for x in range(0, 10):\n",
    "             print(userList[x].sessions[0].requests)\n",
    "\n",
    "class Session:\n",
    "    def __init__(self, **data):\n",
    "        self.startTime = data.get('time', 0)\n",
    "        self.stopTime = data.get('time', 0)\n",
    "        self.requests = data.get('request', [])\n",
    "        self.attainable = LINKS[pageToNumber[data.get('request', [5])[0]]]\n",
    "    \n",
    "    def updateStoptime(self, s):\n",
    "        self.startTime = s\n",
    "\n",
    "    def handleNewRequest(self, s, y):\n",
    "        # print(\"atta: \",self.attainable,\"    requested: \",pageToNumber[s.page],\"\\n\")\n",
    "        if s.time - self.stopTime < gamma and s.time - self.startTime < theta and pageToNumber[\n",
    "            s.page] in self.attainable:\n",
    "            pageTotalTime[self.requests[len(self.requests) - 1]] += s.time - self.stopTime\n",
    "            self.stopTime = s.time\n",
    "            pageTotalVisits[self.requests[len(self.requests) - 1]] += 1\n",
    "            self.requests.append(s.page)\n",
    "            self.attainable = LINKS[pageToNumber[s.page]]\n",
    "        else:\n",
    "            # print(\"A: \", self.stopTime, self.startTime, s.time, \"\\n\")\n",
    "            y.sessions.append(Session(time=x.time, request=[x.page]))\n",
    "\n",
    "class User:\n",
    "    def __init__(self, theIp):\n",
    "        self.ip = theIp\n",
    "        self.sessions = []\n",
    "\n",
    "    def __repr__(self):\n",
    "         return self.ip\n",
    "        \n",
    "def findComputer(x):\n",
    "    for y in userList:\n",
    "        if y.ip == x.ip:\n",
    "            return y\n",
    "    return None\n",
    "\n",
    "PAGES = [\"Shop.html\", \"AddProduct.html\", \"Summary.html\", \"Payment.html\",\"About.html\", \"Contact.html\"]\n",
    "\n",
    "#to neatly convert page names to their indexes in array\n",
    "pageToNumber = {x: i for i, x in enumerate(PAGES)}\n",
    "\n",
    "# used only for average times on pages (contact and payment will be 0)\n",
    "pageTotalTime = {i: 0 for i in PAGES}\n",
    "pageTotalVisits = {i: 0 for i in PAGES}\n",
    "\n",
    "LINKS = [[1, 4],\n",
    "         [2,4],\n",
    "         [3],\n",
    "         [],\n",
    "         [1,5],\n",
    "         []]\n",
    "\n",
    "# max time from the beggining of the session\n",
    "theta = 2400\n",
    "# max time between page swap\n",
    "gamma = 1000\n",
    "\n",
    "\n",
    "\n",
    "userList=[]\n",
    "\n",
    "formatedRequest=[Request(x) for x in lines]\n",
    "\n",
    "\n",
    "for x in formatedRequest:\n",
    "    y = findComputer(x)\n",
    "    # computer was not found so we definitely want to create new session\n",
    "    if y is None:\n",
    "        y = User(x.ip)\n",
    "        userList.append(y)\n",
    "        y.sessions.append(Session(time=x.time, request=[x.page]))\n",
    "    # computer was found check if it has any session and if yes invoke handling the Request\n",
    "    else:\n",
    "        if len(y.sessions) == 0:\n",
    "            y.sessions.append(Session(x.time, x.page))\n",
    "        else:\n",
    "            y.sessions[len(y.sessions) - 1].handleNewRequest(x, y)\n",
    "\n",
    "sessList = []\n",
    "for x in userList:\n",
    "    sessList += x.sessions\n",
    "\n",
    "solution = SolutionMaker(userList, sessList)"
   ]
  },
  {
   "cell_type": "markdown",
   "metadata": {
    "collapsed": true
   },
   "source": [
    "3.1) the number of sessions"
   ]
  },
  {
   "cell_type": "code",
   "execution_count": 15,
   "metadata": {},
   "outputs": [
    {
     "data": {
      "text/plain": [
       "1000"
      ]
     },
     "execution_count": 15,
     "metadata": {},
     "output_type": "execute_result"
    }
   ],
   "source": [
    "solution.numberOfSessions"
   ]
  },
  {
   "cell_type": "markdown",
   "metadata": {},
   "source": [
    "3.2) the number of users"
   ]
  },
  {
   "cell_type": "code",
   "execution_count": 16,
   "metadata": {},
   "outputs": [
    {
     "data": {
      "text/plain": [
       "391"
      ]
     },
     "execution_count": 16,
     "metadata": {},
     "output_type": "execute_result"
    }
   ],
   "source": [
    "solution.numberOfUsers"
   ]
  },
  {
   "cell_type": "markdown",
   "metadata": {},
   "source": [
    "3.3) the average number of sessions per one user"
   ]
  },
  {
   "cell_type": "code",
   "execution_count": 18,
   "metadata": {},
   "outputs": [
    {
     "data": {
      "text/plain": [
       "2.557544757033248"
      ]
     },
     "execution_count": 18,
     "metadata": {},
     "output_type": "execute_result"
    }
   ],
   "source": [
    "solution.averageNumberOfSessions"
   ]
  },
  {
   "cell_type": "markdown",
   "metadata": {},
   "source": [
    "3.4) use the distribution plot to visualize the sessions' lengths (minutes)"
   ]
  },
  {
   "cell_type": "code",
   "execution_count": 19,
   "metadata": {},
   "outputs": [
    {
     "data": {
      "image/png": "[encoded data removed]",
      "text/plain": [
       "<Figure size 432x288 with 1 Axes>"
      ]
     },
     "metadata": {
      "needs_background": "light"
     },
     "output_type": "display_data"
    }
   ],
   "source": [
    "solution.visualizeSessionMinutes()"
   ]
  },
  {
   "cell_type": "markdown",
   "metadata": {},
   "source": [
    "3.5) use the distribution plot to visualize the sessions' lengths (the number of requests)"
   ]
  },
  {
   "cell_type": "code",
   "execution_count": 20,
   "metadata": {},
   "outputs": [
    {
     "name": "stdout",
     "output_type": "stream",
     "text": [
      "{1: 190, 4: 182, 2: 276, 3: 338, 5: 10, 7: 1, 6: 3}\n"
     ]
    },
    {
     "data": {
      "image/png": "[encoded data removed]",
      "text/plain": [
       "<Figure size 432x288 with 1 Axes>"
      ]
     },
     "metadata": {
      "needs_background": "light"
     },
     "output_type": "display_data"
    }
   ],
   "source": [
    "solution.visualizeSessionRequests()"
   ]
  },
  {
   "cell_type": "markdown",
   "metadata": {},
   "source": [
    "3.6) use the distribution plot to visualize sessions' starting times (hours)"
   ]
  },
  {
   "cell_type": "code",
   "execution_count": 21,
   "metadata": {},
   "outputs": [
    {
     "data": {
      "image/png": "[encoded data removed]",
      "text/plain": [
       "<Figure size 432x288 with 1 Axes>"
      ]
     },
     "metadata": {
      "needs_background": "light"
     },
     "output_type": "display_data"
    }
   ],
   "source": [
    "solution.visualizeSessionStartingHours()"
   ]
  },
  {
   "cell_type": "markdown",
   "metadata": {},
   "source": [
    "3.7) which web page is the most common entry point?; for each page plot the number of times it has been an entry page"
   ]
  },
  {
   "cell_type": "code",
   "execution_count": 22,
   "metadata": {},
   "outputs": [
    {
     "name": "stdout",
     "output_type": "stream",
     "text": [
      "{'Shop.html': 690, 'AddProduct.html': 310, 'Summary.html': 0, 'Payment.html': 0, 'About.html': 0, 'Contact.html': 0}\n"
     ]
    },
    {
     "data": {
      "image/png": "[encoded data removed]",
      "text/plain": [
       "<Figure size 432x288 with 1 Axes>"
      ]
     },
     "metadata": {
      "needs_background": "light"
     },
     "output_type": "display_data"
    }
   ],
   "source": [
    "solution.visualizeEntryPoints()"
   ]
  },
  {
   "cell_type": "markdown",
   "metadata": {},
   "source": [
    "3.8) which web page is the most common departure point?; for each page plot the number of times the user stopped a session while being on this page"
   ]
  },
  {
   "cell_type": "code",
   "execution_count": 23,
   "metadata": {},
   "outputs": [
    {
     "name": "stdout",
     "output_type": "stream",
     "text": [
      "{'Shop.html': 62, 'AddProduct.html': 302, 'Summary.html': 71, 'Payment.html': 268, 'About.html': 97, 'Contact.html': 200}\n"
     ]
    },
    {
     "data": {
      "image/png": "[encoded data removed]",
      "text/plain": [
       "<Figure size 432x288 with 1 Axes>"
      ]
     },
     "metadata": {
      "needs_background": "light"
     },
     "output_type": "display_data"
    }
   ],
   "source": [
    "solution.visualizeDeparturePoints()"
   ]
  },
  {
   "cell_type": "markdown",
   "metadata": {},
   "source": [
    "3.9) for each page plot the average time the user stayed on this page"
   ]
  },
  {
   "cell_type": "code",
   "execution_count": 24,
   "metadata": {},
   "outputs": [
    {
     "data": {
      "image/png": "[encoded data removed]",
      "text/plain": [
       "<Figure size 432x288 with 1 Axes>"
      ]
     },
     "metadata": {
      "needs_background": "light"
     },
     "output_type": "display_data"
    },
    {
     "name": "stdout",
     "output_type": "stream",
     "text": [
      "{'Shop.html': 76.57484076433121, 'AddProduct.html': 458.29245283018867, 'Summary.html': 116.06343283582089, 'Payment.html': 0, 'About.html': 557.0878661087866, 'Contact.html': 0}\n"
     ]
    }
   ],
   "source": [
    "solution.visualizeAverageTimeOnPage()"
   ]
  },
  {
   "cell_type": "markdown",
   "metadata": {},
   "source": [
    "3.10) print the fist 10 sessions (paths)."
   ]
  },
  {
   "cell_type": "code",
   "execution_count": 25,
   "metadata": {},
   "outputs": [
    {
     "name": "stdout",
     "output_type": "stream",
     "text": [
      "['AddProduct.html']\n",
      "['Shop.html', 'AddProduct.html', 'Summary.html']\n",
      "['Shop.html', 'AddProduct.html', 'Summary.html', 'Payment.html']\n",
      "['AddProduct.html', 'Summary.html', 'Payment.html']\n",
      "['AddProduct.html', 'About.html', 'Contact.html']\n",
      "['Shop.html', 'AddProduct.html']\n",
      "['Shop.html', 'About.html']\n",
      "['Shop.html', 'About.html', 'Contact.html']\n",
      "['Shop.html']\n",
      "['AddProduct.html']\n"
     ]
    }
   ],
   "source": [
    "solution.printFirstSessions(10)\n"
   ]
  },
  {
   "cell_type": "code",
   "execution_count": null,
   "metadata": {},
   "outputs": [],
   "source": []
  }
 ],
 "metadata": {
  "kernelspec": {
   "display_name": "Python 3",
   "language": "python",
   "name": "python3"
  },
  "language_info": {
   "codemirror_mode": {
    "name": "ipython",
    "version": 3
   },
   "file_extension": ".py",
   "mimetype": "text/x-python",
   "name": "python",
   "nbconvert_exporter": "python",
   "pygments_lexer": "ipython3",
   "version": "3.6.9"
  }
 },
 "nbformat": 4,
 "nbformat_minor": 2
}
